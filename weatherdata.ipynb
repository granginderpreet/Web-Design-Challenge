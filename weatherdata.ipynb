{
 "cells": [
  {
   "cell_type": "markdown",
   "metadata": {},
   "source": [
    "##This is python  program to read cities data in csv format and output in html form. This html form is input into data_from_pandas.html. "
   ]
  },
  {
   "cell_type": "code",
   "execution_count": 79,
   "metadata": {},
   "outputs": [],
   "source": [
    "import pandas as pd\n",
    "from datetime import datetime \n",
    "\n",
    "\n",
    "\n",
    "df=pd.read_csv(\"./Images/cities.csv\")\n"
   ]
  },
  {
   "cell_type": "markdown",
   "metadata": {},
   "source": [
    "#Convert the date in UTC integer format into YYYYMMDDD format. We need to loop through all rows"
   ]
  },
  {
   "cell_type": "code",
   "execution_count": null,
   "metadata": {},
   "outputs": [],
   "source": [
    "\n",
    "for index, row in df.iterrows():\n",
    "    date=int(row[\"Date\"])\n",
    "    df.loc[index,\"Date\"]= datetime.utcfromtimestamp(date).strftime(\"%Y/%m/%d %H:%M\")\n"
   ]
  },
  {
   "cell_type": "markdown",
   "metadata": {},
   "source": [
    "#Save modified data from dataframe  html format left justified and without exporting index"
   ]
  },
  {
   "cell_type": "code",
   "execution_count": null,
   "metadata": {},
   "outputs": [],
   "source": [
    "\n",
    "cities_html=df.to_html(index=False, justify=\"left\")\n"
   ]
  },
  {
   "cell_type": "markdown",
   "metadata": {},
   "source": [
    "#Add some header strings before the table and then write the html table"
   ]
  },
  {
   "cell_type": "code",
   "execution_count": null,
   "metadata": {},
   "outputs": [],
   "source": [
    "\n",
    "\n",
    "text_head = '''\n",
    "<html>\n",
    "    <body>\n",
    "        <h1>Raw Weather data for Cities </h1>\n",
    "    </body>\n",
    "</html>\n",
    "'''\n",
    "text_tail='''\n",
    "</body>\n",
    "</html>\n",
    " '''\n",
    "\n",
    "file = open(\"cities.html\",\"w\")\n",
    "\n",
    "\n",
    "file.write(text_head)\n",
    "\n",
    "file.write(cities_html)\n",
    "\n",
    "file.write(text_tail)\n",
    "\n",
    "file.close()\n"
   ]
  },
  {
   "cell_type": "code",
   "execution_count": null,
   "metadata": {},
   "outputs": [],
   "source": []
  }
 ],
 "metadata": {
  "interpreter": {
   "hash": "e7525c9c64bb4f756fa5119475523321714396a5c4e4913ca726a00dbe654c57"
  },
  "kernelspec": {
   "display_name": "Python 3.9.10 64-bit (windows store)",
   "language": "python",
   "name": "python3"
  },
  "language_info": {
   "codemirror_mode": {
    "name": "ipython",
    "version": 3
   },
   "file_extension": ".py",
   "mimetype": "text/x-python",
   "name": "python",
   "nbconvert_exporter": "python",
   "pygments_lexer": "ipython3",
   "version": "3.9.10"
  },
  "orig_nbformat": 4
 },
 "nbformat": 4,
 "nbformat_minor": 2
}
